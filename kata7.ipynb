{
 "cells": [
  {
   "cell_type": "markdown",
   "metadata": {},
   "source": [
    "## Ejercicio 1: Uso de ciclos while en Python"
   ]
  },
  {
   "cell_type": "code",
   "execution_count": 19,
   "metadata": {},
   "outputs": [
    {
     "name": "stdout",
     "output_type": "stream",
     "text": [
      "['sol', 'sol2', 'sol3']\n"
     ]
    }
   ],
   "source": [
    "new_planet = input(str(\"Escribe planetas que desees agegar a la lista, cuando hayas acabado escribe 'done' \"))\n",
    "\n",
    "planets = []\n",
    "\n",
    "while new_planet.lower() != 'done':\n",
    "    if new_planet:\n",
    "        planets.append(new_planet)\n",
    "        new_planet = input(str(\"Escribe planetas que desees agegar a la lista, cuando hayas acabado escribe 'done' \"))\n",
    "print(planets)\n",
    "    \n",
    "\n",
    "\n",
    "\n"
   ]
  },
  {
   "cell_type": "markdown",
   "metadata": {},
   "source": [
    "\n",
    "## Ejercicio 2: Creación de un ciclo \"for\""
   ]
  },
  {
   "cell_type": "code",
   "execution_count": 21,
   "metadata": {},
   "outputs": [
    {
     "name": "stdout",
     "output_type": "stream",
     "text": [
      "sol1 \n",
      "sol2\n",
      "sol3\n",
      "sol4\n"
     ]
    }
   ],
   "source": [
    "new_planet = input(str(\"Escribe planetas que desees agegar a la lista, cuando hayas acabado escribe 'done' \"))\n",
    "\n",
    "planets = []\n",
    "\n",
    "while new_planet.lower() != 'done':\n",
    "    if new_planet:\n",
    "        planets.append(new_planet)\n",
    "        new_planet = input(str(\"Escribe planetas que desees agegar a la lista, cuando hayas acabado escribe 'done' \"))\n",
    "\n",
    "    \n",
    "for planet in planets:\n",
    "    print(planet)"
   ]
  }
 ],
 "metadata": {
  "interpreter": {
   "hash": "fcb021d35cf39bb99a5e9283ad72ecf222fd112cd205b30df6b05c52f49abb37"
  },
  "kernelspec": {
   "display_name": "Python 3.9.10 64-bit",
   "language": "python",
   "name": "python3"
  },
  "language_info": {
   "codemirror_mode": {
    "name": "ipython",
    "version": 3
   },
   "file_extension": ".py",
   "mimetype": "text/x-python",
   "name": "python",
   "nbconvert_exporter": "python",
   "pygments_lexer": "ipython3",
   "version": "3.9.10"
  },
  "orig_nbformat": 4
 },
 "nbformat": 4,
 "nbformat_minor": 2
}
