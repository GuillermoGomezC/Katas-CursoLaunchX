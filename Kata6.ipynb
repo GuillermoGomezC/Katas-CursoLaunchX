{
 "cells": [
  {
   "cell_type": "markdown",
   "metadata": {},
   "source": [
    "## Ejercicio 1"
   ]
  },
  {
   "cell_type": "code",
   "execution_count": 33,
   "metadata": {},
   "outputs": [
    {
     "name": "stdout",
     "output_type": "stream",
     "text": [
      "Hay 8 planetas\n",
      "Ahora hay 9  planetas\n",
      "Pluto es el último planeta\n"
     ]
    }
   ],
   "source": [
    "planets = ['Mercury', 'Venus', 'Earth', 'Mars', 'Jupiter', 'Saturn', 'Uranus', 'Neptune']\n",
    "nplanets = (len(planets))\n",
    "print(\"Hay\", nplanets, \"planetas\")\n",
    "planets.append('Pluto')\n",
    "\n",
    "nplanets = (len(planets))\n",
    "print(\"Ahora hay\",nplanets,\" planetas\")\n",
    "print(planets[-1], \"es el último planeta\")"
   ]
  },
  {
   "cell_type": "markdown",
   "metadata": {},
   "source": [
    "## Ejercicio 2"
   ]
  },
  {
   "cell_type": "code",
   "execution_count": 35,
   "metadata": {},
   "outputs": [
    {
     "name": "stdout",
     "output_type": "stream",
     "text": [
      "Aqui estan los planetas mas cercanos al sol que Venus\n",
      "['Mercury']\n",
      "Aqui estan los planetas mas lejanos al sol que Venus\n",
      "['Earth', 'Mars', 'Jupiter', 'Saturn', 'Neptune']\n"
     ]
    }
   ],
   "source": [
    "# Lista de planetas\n",
    "planets = ['Mercury', 'Venus', 'Earth', 'Mars', 'Jupiter', 'Saturn', 'Neptune']\n",
    "planeta=input(\"Ingresa el nombre del planeta (primera letra mayuscula)\")\n",
    "nplaneta=planets.index(planeta)\n",
    "\n",
    "print('Aqui estan los planetas mas cercanos al sol que ' + planeta)\n",
    "print(planets[0:nplaneta])\n",
    "\n",
    "print('Aqui estan los planetas mas lejanos al sol que ' + planeta)\n",
    "print(planets[nplaneta+1:])\n",
    "\n"
   ]
  }
 ],
 "metadata": {
  "interpreter": {
   "hash": "fcb021d35cf39bb99a5e9283ad72ecf222fd112cd205b30df6b05c52f49abb37"
  },
  "kernelspec": {
   "display_name": "Python 3.9.10 64-bit",
   "language": "python",
   "name": "python3"
  },
  "language_info": {
   "codemirror_mode": {
    "name": "ipython",
    "version": 3
   },
   "file_extension": ".py",
   "mimetype": "text/x-python",
   "name": "python",
   "nbconvert_exporter": "python",
   "pygments_lexer": "ipython3",
   "version": "3.9.10"
  },
  "orig_nbformat": 4
 },
 "nbformat": 4,
 "nbformat_minor": 2
}
