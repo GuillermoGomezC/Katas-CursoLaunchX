{
 "cells": [
  {
   "cell_type": "markdown",
   "metadata": {},
   "source": [
    "## Ejercicio 1"
   ]
  },
  {
   "cell_type": "code",
   "execution_count": 50,
   "metadata": {},
   "outputs": [
    {
     "name": "stdout",
     "output_type": "stream",
     "text": [
      "\n",
      "On average, the Moon moves 4cm away from the Earth every year\n",
      "The highest daylight temperature of the Moon is 127 C.\n",
      "The highest daylight temperature of the Moon is 127 Celsius.\n"
     ]
    }
   ],
   "source": [
    "text = \"\"\"Interesting facts about the Moon. The Moon is Earth's only satellite. There are several interesting facts about the Moon and how it affects life here on Earth. \n",
    "On average, the Moon moves 4cm away from the Earth every year. This yearly drift is not significant enough to cause immediate effects on Earth. The highest daylight temperature of the Moon is 127 C.\"\"\"\n",
    "# Divide el texto\n",
    "facts = text.split(\". \")\n",
    "# Palabras clave\n",
    "pistas = [\"average\",\"distance\", \"temperature\"]\n",
    "# Ciclo for para recorrer la cadena\n",
    "for oraciones in facts:\n",
    "    for pista in pistas:\n",
    "        if pista in oraciones:\n",
    "            print(oraciones)\n",
    "            break\n",
    "# Ciclo para cambiar C a Celsius\n",
    "for oraciones in facts:\n",
    "    if \"C\" in oraciones:\n",
    "        print(oraciones.replace(\"C\", \"Celsius\"))\n",
    "        break"
   ]
  },
  {
   "cell_type": "markdown",
   "metadata": {},
   "source": [
    "## Ejercicio 2"
   ]
  },
  {
   "cell_type": "code",
   "execution_count": 82,
   "metadata": {},
   "outputs": [
    {
     "name": "stdout",
     "output_type": "stream",
     "text": [
      "\n",
      "Datos de Gravedad sobre: Luna\n",
      "-------------------------------------------------------------------------------\n",
      "Nombre del planeta: Tierra\n",
      "Gravedad en Luna: 0.00162 m/s2\n",
      "\n"
     ]
    }
   ],
   "source": [
    "# Datos con los que vas a trabajar\n",
    "name = \"Luna\"\n",
    "gravity = 0.00162 # in kms\n",
    "planet = \"Tierra\"\n",
    "# Creamos el título\n",
    "titulo= f\"Datos interesantes sobre la {name} y la {planet} \\n----------------------------------------------\"\n",
    "# Creamos la plantilla\n",
    "hechos= f\"\"\"\\nNombre del planeta: {planet} \\nGravedad en {name}: {gravity*1000} m/s2\"\"\"\n",
    "# Unión de ambas cadenas\n",
    "union=titulo.title()+hechos\n",
    "# Comprobamos la plantilla\n",
    "#print(union)\n",
    "\n",
    "nuevoshechos=\"\"\"\n",
    "Datos de Gravedad sobre: {nombre}\n",
    "-------------------------------------------------------------------------------\n",
    "Nombre del planeta: {planeta}\n",
    "Gravedad en {nombre}: {gravedad} m/s2\n",
    "\"\"\"\n",
    "print(nuevoshechos.format(nombre=name, planeta=planet, gravedad=gravity));\n",
    "\n"
   ]
  }
 ],
 "metadata": {
  "interpreter": {
   "hash": "fcb021d35cf39bb99a5e9283ad72ecf222fd112cd205b30df6b05c52f49abb37"
  },
  "kernelspec": {
   "display_name": "Python 3.9.10 64-bit",
   "language": "python",
   "name": "python3"
  },
  "language_info": {
   "codemirror_mode": {
    "name": "ipython",
    "version": 3
   },
   "file_extension": ".py",
   "mimetype": "text/x-python",
   "name": "python",
   "nbconvert_exporter": "python",
   "pygments_lexer": "ipython3",
   "version": "3.9.10"
  },
  "orig_nbformat": 4
 },
 "nbformat": 4,
 "nbformat_minor": 2
}
