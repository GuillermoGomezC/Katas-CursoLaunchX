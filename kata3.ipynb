{
 "cells": [
  {
   "cell_type": "markdown",
   "metadata": {},
   "source": [
    "## Ejercicio - Escribir declaraciones if, else, y elif\n",
    "Porblema 1"
   ]
  },
  {
   "cell_type": "code",
   "execution_count": 3,
   "metadata": {},
   "outputs": [
    {
     "name": "stdout",
     "output_type": "stream",
     "text": [
      "Advertencia\n"
     ]
    }
   ],
   "source": [
    "asteroide= 49\n",
    "\n",
    "if asteroide > 25:\n",
    "    print(\"Advertencia\")\n"
   ]
  },
  {
   "cell_type": "markdown",
   "metadata": {},
   "source": [
    "Problema 2"
   ]
  },
  {
   "cell_type": "code",
   "execution_count": 27,
   "metadata": {},
   "outputs": [
    {
     "name": "stdout",
     "output_type": "stream",
     "text": [
      "No hay asteroide\n"
     ]
    }
   ],
   "source": [
    "asteroide = 19\n",
    "if asteroide > 20:\n",
    "    print(\"Mira al cielo\")\n",
    "elif asteroide == 20:\n",
    "    print(\"Mira al cielo\")\n",
    "else:\n",
    "    print(\"No hay asteroide\")"
   ]
  },
  {
   "cell_type": "markdown",
   "metadata": {},
   "source": [
    "## Ejercicio: Uso de operadores and y or"
   ]
  },
  {
   "cell_type": "markdown",
   "metadata": {},
   "source": [
    "Problema 3"
   ]
  },
  {
   "cell_type": "code",
   "execution_count": 62,
   "metadata": {},
   "outputs": [
    {
     "name": "stdout",
     "output_type": "stream",
     "text": [
      "Mira al cielo y disfruta del asteroide\n"
     ]
    }
   ],
   "source": [
    "velocidad= 25\n",
    "tamaño= 20\n",
    "\n",
    "if velocidad > 25 or tamaño > 25:\n",
    "    print(\"Alerta, asteroide peligroso\")\n",
    "elif velocidad <= 25 and velocidad>= 20:\n",
    "    print(\"Mira al cielo y disfruta del asteroide\")\n",
    "else: \n",
    "    print(\"No hay asteroide\") \n"
   ]
  }
 ],
 "metadata": {
  "interpreter": {
   "hash": "fcb021d35cf39bb99a5e9283ad72ecf222fd112cd205b30df6b05c52f49abb37"
  },
  "kernelspec": {
   "display_name": "Python 3.9.10 64-bit",
   "language": "python",
   "name": "python3"
  },
  "language_info": {
   "codemirror_mode": {
    "name": "ipython",
    "version": 3
   },
   "file_extension": ".py",
   "mimetype": "text/x-python",
   "name": "python",
   "nbconvert_exporter": "python",
   "pygments_lexer": "ipython3",
   "version": "3.9.10"
  },
  "orig_nbformat": 4
 },
 "nbformat": 4,
 "nbformat_minor": 2
}
