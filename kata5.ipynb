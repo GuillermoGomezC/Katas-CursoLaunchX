{
 "cells": [
  {
   "cell_type": "markdown",
   "metadata": {},
   "source": [
    "## Ejercicio 1"
   ]
  },
  {
   "cell_type": "code",
   "execution_count": 6,
   "metadata": {},
   "outputs": [
    {
     "name": "stdout",
     "output_type": "stream",
     "text": [
      "\n",
      "Distancia entre planetas: 628949330 \n",
      "Distancia en millas: 390577533\n"
     ]
    }
   ],
   "source": [
    "\n",
    "tierra= 149597870\n",
    "jupiter= 778547200\n",
    "#distancia entre planetas\n",
    "distancia= jupiter - tierra\n",
    "#distancia en millas\n",
    "distancia2= distancia * 0.621\n",
    "print(\"\\nDistancia entre planetas:\",distancia,\"\\nDistancia en millas:\", int(distancia2)) "
   ]
  },
  {
   "cell_type": "markdown",
   "metadata": {},
   "source": [
    "## Ejercicio 2"
   ]
  },
  {
   "cell_type": "code",
   "execution_count": 14,
   "metadata": {},
   "outputs": [
    {
     "name": "stdout",
     "output_type": "stream",
     "text": [
      "550700000\n",
      "341984700.0\n"
     ]
    }
   ],
   "source": [
    "marte=int(input(\"Cual es la distancia de marte al sol?\" ))\n",
    "jupiter=int(input(\"Cual es la distancia de jupiter al sol?\" ))\n",
    "\n",
    "\n",
    "# Realizar el cálculo y determinar el valor absoluto\n",
    "distancia = marte - jupiter\n",
    "print(abs(distancia))\n",
    "\n",
    "# Convertir de KM a Millas\n",
    "distancia2 = distancia * 0.621\n",
    "print(abs(distancia2))"
   ]
  }
 ],
 "metadata": {
  "interpreter": {
   "hash": "fcb021d35cf39bb99a5e9283ad72ecf222fd112cd205b30df6b05c52f49abb37"
  },
  "kernelspec": {
   "display_name": "Python 3.9.10 64-bit",
   "language": "python",
   "name": "python3"
  },
  "language_info": {
   "codemirror_mode": {
    "name": "ipython",
    "version": 3
   },
   "file_extension": ".py",
   "mimetype": "text/x-python",
   "name": "python",
   "nbconvert_exporter": "python",
   "pygments_lexer": "ipython3",
   "version": "3.9.10"
  },
  "orig_nbformat": 4
 },
 "nbformat": 4,
 "nbformat_minor": 2
}
