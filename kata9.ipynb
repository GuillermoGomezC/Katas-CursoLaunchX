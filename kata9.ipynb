{
 "cells": [
  {
   "cell_type": "markdown",
   "metadata": {},
   "source": [
    "## Ejercicio 1: Trabajar con argumentos en funciones\n"
   ]
  },
  {
   "cell_type": "code",
   "execution_count": 19,
   "metadata": {},
   "outputs": [
    {
     "name": "stdout",
     "output_type": "stream",
     "text": [
      "Reporte de tanques \n",
      "    Promedio total 85.0 % \n",
      "    Tanque 1: 80 %\n",
      "    Tanque 2: 85 %\n",
      "    Tanque 3: 90 %\n",
      "    \n"
     ]
    }
   ],
   "source": [
    "def tanques(tanque1,tanque2,tanque3):\n",
    "    promedio = (tanque1 + tanque2 + tanque3)/3\n",
    "    return f\"\"\"Reporte de tanques \n",
    "    Promedio total {promedio} % \n",
    "    Tanque 1: {tanque1} %\n",
    "    Tanque 2: {tanque2} %\n",
    "    Tanque 3: {tanque3} %\n",
    "    \"\"\"\n",
    "#print(tanques(75, 80, 95))\n",
    "\n",
    "def promedio2(values): #Nueva funcion para sacar el promedio a parte\n",
    "    total = sum(values)\n",
    "    numerodevalores = len(values)\n",
    "    return total / numerodevalores\n",
    "\n",
    "\n",
    "def tanquesact(tanque1,tanque2,tanque3):#funcion de reporte actualizada\n",
    "   \n",
    "    return f\"\"\"Reporte de tanques \n",
    "    Promedio total {promedio2([tanque1,tanque2,tanque3])} % \n",
    "    Tanque 1: {tanque1} %\n",
    "    Tanque 2: {tanque2} %\n",
    "    Tanque 3: {tanque3} %\n",
    "    \"\"\"\n",
    "print(tanquesact(80,85,90))"
   ]
  },
  {
   "cell_type": "markdown",
   "metadata": {},
   "source": [
    "## Ejercicio 2: Trabajo con argumentos de palabra clave"
   ]
  },
  {
   "cell_type": "code",
   "execution_count": 36,
   "metadata": {},
   "outputs": [
    {
     "name": "stdout",
     "output_type": "stream",
     "text": [
      "    Lugar de la mision: Tierra\n",
      "    Tiempo de la mision: 25 horas\n",
      "    Combustible restante: 85 litros\n",
      "    \n",
      "    Lugar de la mision: Tierra\n",
      "    Tiempo de la mision: 37 horas\n",
      "    Combustible restante: 75 litros\n",
      "    \n",
      "    Lugar de la mision: Tierra\n",
      "    Tiempo de la mision: 37 horas\n",
      "    Combustible restante: 75 litros\n",
      "    Tanque hidrogeno tiene 55 litros\n",
      "    Tanque oxigeno tiene 20 litros\n",
      "    \n"
     ]
    }
   ],
   "source": [
    "def reportedemision(prelanzamiento, tiempovuelo, lugar,combustible,combustible2):\n",
    "    return f\"\"\"    Lugar de la mision: {lugar}\n",
    "    Tiempo de la mision: {prelanzamiento+tiempovuelo} horas\n",
    "    Combustible restante: {combustible+combustible2} litros\n",
    "    \"\"\"\n",
    "print(reportedemision(15,10, 'Tierra', 40,45))\n",
    "\n",
    "def reportedemision(lugar,*tiempo,**combustible):\n",
    "    return f\"\"\"    Lugar de la mision: {lugar}\n",
    "    Tiempo de la mision: {sum(tiempo)} horas\n",
    "    Combustible restante: {sum(combustible.values())} litros\n",
    "    \"\"\"\n",
    "print(reportedemision('Tierra', 10,15,12, tanque1=55, tanque2=20))\n",
    "\n",
    "def reportedemision(lugar,*tiempo,**combustible):\n",
    "    reportefinal =  f\"\"\"    Lugar de la mision: {lugar}\n",
    "    Tiempo de la mision: {sum(tiempo)} horas\n",
    "    Combustible restante: {sum(combustible.values())} litros\n",
    "    \"\"\"\n",
    "    for tanques,litros in combustible.items():\n",
    "        reportefinal += f\"Tanque {tanques} tiene {litros} litros\\n    \"\n",
    "    return reportefinal\n",
    "\n",
    "\n",
    "print(reportedemision('Tierra', 10,15,12, hidrogeno=55, oxigeno=20))\n"
   ]
  }
 ],
 "metadata": {
  "interpreter": {
   "hash": "fcb021d35cf39bb99a5e9283ad72ecf222fd112cd205b30df6b05c52f49abb37"
  },
  "kernelspec": {
   "display_name": "Python 3.9.10 64-bit",
   "language": "python",
   "name": "python3"
  },
  "language_info": {
   "codemirror_mode": {
    "name": "ipython",
    "version": 3
   },
   "file_extension": ".py",
   "mimetype": "text/x-python",
   "name": "python",
   "nbconvert_exporter": "python",
   "pygments_lexer": "ipython3",
   "version": "3.9.10"
  },
  "orig_nbformat": 4
 },
 "nbformat": 4,
 "nbformat_minor": 2
}
